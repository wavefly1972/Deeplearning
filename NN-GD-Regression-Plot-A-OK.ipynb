{
 "cells": [
  {
   "cell_type": "code",
   "execution_count": 1,
   "metadata": {},
   "outputs": [
    {
     "name": "stdout",
     "output_type": "stream",
     "text": [
      "WARNING:tensorflow:From /home/wavefly1972/.pyenv/versions/3.5.4/lib/python3.5/site-packages/tensorflow/python/util/tf_should_use.py:107: initialize_all_variables (from tensorflow.python.ops.variables) is deprecated and will be removed after 2017-03-02.\n",
      "Instructions for updating:\n",
      "Use `tf.global_variables_initializer` instead.\n",
      "18.431581\n"
     ]
    },
    {
     "data": {
      "text/plain": [
       "<matplotlib.figure.Figure at 0x7f0f980684a8>"
      ]
     },
     "metadata": {},
     "output_type": "display_data"
    },
    {
     "name": "stdout",
     "output_type": "stream",
     "text": [
      "0.007035821\n"
     ]
    },
    {
     "data": {
      "text/plain": [
       "<matplotlib.figure.Figure at 0x7f0f50198da0>"
      ]
     },
     "metadata": {},
     "output_type": "display_data"
    },
    {
     "name": "stdout",
     "output_type": "stream",
     "text": [
      "0.0047400044\n"
     ]
    },
    {
     "data": {
      "text/plain": [
       "<matplotlib.figure.Figure at 0x7f0f501ca048>"
      ]
     },
     "metadata": {},
     "output_type": "display_data"
    },
    {
     "name": "stdout",
     "output_type": "stream",
     "text": [
      "0.0037748134\n"
     ]
    },
    {
     "data": {
      "text/plain": [
       "<matplotlib.figure.Figure at 0x7f0f5017b5c0>"
      ]
     },
     "metadata": {},
     "output_type": "display_data"
    },
    {
     "name": "stdout",
     "output_type": "stream",
     "text": [
      "0.0032573321\n"
     ]
    },
    {
     "data": {
      "text/plain": [
       "<matplotlib.figure.Figure at 0x7f0f5011b240>"
      ]
     },
     "metadata": {},
     "output_type": "display_data"
    },
    {
     "name": "stdout",
     "output_type": "stream",
     "text": [
      "0.0029633795\n"
     ]
    },
    {
     "data": {
      "text/plain": [
       "<matplotlib.figure.Figure at 0x7f0f501434e0>"
      ]
     },
     "metadata": {},
     "output_type": "display_data"
    },
    {
     "name": "stdout",
     "output_type": "stream",
     "text": [
      "0.002789891\n"
     ]
    },
    {
     "data": {
      "text/plain": [
       "<matplotlib.figure.Figure at 0x7f0f500e7ef0>"
      ]
     },
     "metadata": {},
     "output_type": "display_data"
    },
    {
     "name": "stdout",
     "output_type": "stream",
     "text": [
      "0.0026898875\n"
     ]
    },
    {
     "data": {
      "text/plain": [
       "<matplotlib.figure.Figure at 0x7f0f500da0b8>"
      ]
     },
     "metadata": {},
     "output_type": "display_data"
    },
    {
     "name": "stdout",
     "output_type": "stream",
     "text": [
      "0.0026239133\n"
     ]
    },
    {
     "data": {
      "text/plain": [
       "<matplotlib.figure.Figure at 0x7f0f500cee48>"
      ]
     },
     "metadata": {},
     "output_type": "display_data"
    },
    {
     "name": "stdout",
     "output_type": "stream",
     "text": [
      "0.0025857333\n"
     ]
    },
    {
     "data": {
      "text/plain": [
       "<matplotlib.figure.Figure at 0x7f0f50062550>"
      ]
     },
     "metadata": {},
     "output_type": "display_data"
    },
    {
     "name": "stdout",
     "output_type": "stream",
     "text": [
      "0.0025585615\n"
     ]
    },
    {
     "data": {
      "text/plain": [
       "<matplotlib.figure.Figure at 0x7f0f5008c518>"
      ]
     },
     "metadata": {},
     "output_type": "display_data"
    },
    {
     "name": "stdout",
     "output_type": "stream",
     "text": [
      "0.002540035\n"
     ]
    },
    {
     "data": {
      "text/plain": [
       "<matplotlib.figure.Figure at 0x7f0f500782e8>"
      ]
     },
     "metadata": {},
     "output_type": "display_data"
    },
    {
     "name": "stdout",
     "output_type": "stream",
     "text": [
      "0.0025275154\n"
     ]
    },
    {
     "data": {
      "text/plain": [
       "<matplotlib.figure.Figure at 0x7f0f531fce48>"
      ]
     },
     "metadata": {},
     "output_type": "display_data"
    },
    {
     "name": "stdout",
     "output_type": "stream",
     "text": [
      "0.0025177074\n"
     ]
    },
    {
     "data": {
      "text/plain": [
       "<matplotlib.figure.Figure at 0x7f0f50068748>"
      ]
     },
     "metadata": {},
     "output_type": "display_data"
    },
    {
     "name": "stdout",
     "output_type": "stream",
     "text": [
      "0.0025095686\n"
     ]
    },
    {
     "data": {
      "text/plain": [
       "<matplotlib.figure.Figure at 0x7f0f53282198>"
      ]
     },
     "metadata": {},
     "output_type": "display_data"
    },
    {
     "name": "stdout",
     "output_type": "stream",
     "text": [
      "0.002503293\n"
     ]
    },
    {
     "data": {
      "text/plain": [
       "<matplotlib.figure.Figure at 0x7f0f501c6be0>"
      ]
     },
     "metadata": {},
     "output_type": "display_data"
    },
    {
     "name": "stdout",
     "output_type": "stream",
     "text": [
      "0.0024978558\n"
     ]
    },
    {
     "data": {
      "text/plain": [
       "<matplotlib.figure.Figure at 0x7f0f500bdc88>"
      ]
     },
     "metadata": {},
     "output_type": "display_data"
    },
    {
     "name": "stdout",
     "output_type": "stream",
     "text": [
      "0.0024929736\n"
     ]
    },
    {
     "data": {
      "text/plain": [
       "<matplotlib.figure.Figure at 0x7f0f500ff940>"
      ]
     },
     "metadata": {},
     "output_type": "display_data"
    },
    {
     "name": "stdout",
     "output_type": "stream",
     "text": [
      "0.0024884609\n"
     ]
    },
    {
     "data": {
      "text/plain": [
       "<matplotlib.figure.Figure at 0x7f0f500f4a58>"
      ]
     },
     "metadata": {},
     "output_type": "display_data"
    },
    {
     "name": "stdout",
     "output_type": "stream",
     "text": [
      "0.0024838916\n"
     ]
    },
    {
     "data": {
      "text/plain": [
       "<matplotlib.figure.Figure at 0x7f0f501354a8>"
      ]
     },
     "metadata": {},
     "output_type": "display_data"
    }
   ],
   "source": [
    "import tensorflow as tf\n",
    "import numpy as np\n",
    "import matplotlib.pyplot as plt\n",
    "\n",
    "    #add one more layer and return te output of this layer\n",
    "def add_layer(inputs,in_size,out_size,activation_function=None):\n",
    "    Weights=tf.Variable(tf.random_normal([in_size,out_size]))   #inital vaule prefer to be non-zero\n",
    "              #print(Weights)\n",
    "    biases=tf.Variable(tf.zeros([1,out_size])+0.1)  # size= 1*out_size, all values are 0.1(non-Zero)\n",
    "\n",
    "    Wx_plus_b=tf.matmul(inputs,Weights)+biases # The unactiviated values are storaged in Wx_plus_b\n",
    "    # name of activiation funtion is default \n",
    "    \n",
    "    if activation_function is None:  # None means 0, activation fucntion is linear\n",
    "        outputs=Wx_plus_b # keep original value\n",
    "    else:\n",
    "        outputs=activation_function(Wx_plus_b)\n",
    "    return outputs\n",
    "#=====================================================================================\n",
    "#generate input trained data and real data\n",
    "x_data=np.linspace(-1,1,300)[:,np.newaxis]   # Trained data, np.newaxis=none, size=300*1\n",
    "#print('x_data=',x_data)\n",
    "noise=np.random.normal(0,0.05,x_data.shape)  # shape=size=300*1\n",
    "#print(noise)\n",
    "y_data=np.square(x_data)-0.5+noise  #real data\n",
    "\n",
    "#=========================================================================================\n",
    "#define placeholder for inputs to network\n",
    "xs=tf.placeholder(tf.float32,[None,1])   #The purpose is for splite input dataset to smaller set which will be more effective\n",
    "ys=tf.placeholder(tf.float32,[None,1])   #None means any dimension, 1 means one dimesion\n",
    "#print(xs)\n",
    "\n",
    "#==========================================================================================\n",
    "#add hidden layers and predition layer\n",
    "\n",
    "hidden_layer1=add_layer(xs,1,10,activation_function=tf.nn.relu)\n",
    "\n",
    "hidden_layer2=add_layer(hidden_layer1,10,10,activation_function=tf.nn.relu)\n",
    "\n",
    "predition=add_layer(hidden_layer2,10,1,activation_function=None)  #one output layer \n",
    "\n",
    "#============================================================================================\n",
    "#the error between predition and real data\n",
    "loss=tf.reduce_mean(tf.reduce_sum(tf.square(ys-predition),reduction_indices=[1]))  #loss function\n",
    "# sum for all inputs then mean. reduction_indices????\n",
    "train_step=tf.train.GradientDescentOptimizer(0.1).minimize(loss)  #back propogation, 0.1 is learning rate\n",
    "\n",
    "init=tf.initialize_all_variables()  #important step\n",
    "\n",
    "sess=tf.Session()\n",
    "\n",
    "\n",
    "sess.run(init)   #important step\n",
    "\n",
    "\n",
    "#=======Visuial================\n",
    "#fig=plt.figure()\n",
    "#ax=fig.add_subplot(1,1,1)\n",
    "#ax.scatter(x_data,y_data)\n",
    "#plt.ion()\n",
    "#plt.show()\n",
    "\n",
    "for i in range(1000):\n",
    "    #training\n",
    "    sess.run(train_step,feed_dict={xs:x_data,ys:y_data})\n",
    "\n",
    "    if i % 50==0:\n",
    "        print(sess.run(loss,feed_dict={xs:x_data,ys:y_data}))\n",
    "        #print(sess.run(predition,feed_dict={xs:x_data,ys:y_data}))\n",
    "        fig=plt.figure()\n",
    "        ax=fig.add_subplot(1,1,1) \n",
    "        ax.scatter(x_data,y_data)  \n",
    "        #try:\n",
    "           # ax.lines.remove(lines[0])\n",
    "        #except Exception:\n",
    "           # pass\n",
    "         \n",
    "        predition_value=sess.run(predition,feed_dict={xs:x_data,ys:y_data})\n",
    "        #print(predition_value)\n",
    "        #ax.plot(x_data,predition_value,'r-',lw=5)\n",
    "        plt.plot(x_data,predition_value,'r-',lw=5)   \n",
    "        #ax.lines.remove(lines[0])\n",
    "        #plt.pause(0.1)  # temp\n",
    "        #plt.ion()\n",
    "        plt.show()\n",
    "#plt.ion() # continue run\n"
   ]
  },
  {
   "cell_type": "code",
   "execution_count": null,
   "metadata": {},
   "outputs": [],
   "source": []
  },
  {
   "cell_type": "code",
   "execution_count": null,
   "metadata": {},
   "outputs": [],
   "source": []
  }
 ],
 "metadata": {
  "kernelspec": {
   "display_name": "Python 3",
   "language": "python",
   "name": "python3"
  },
  "language_info": {
   "codemirror_mode": {
    "name": "ipython",
    "version": 3
   },
   "file_extension": ".py",
   "mimetype": "text/x-python",
   "name": "python",
   "nbconvert_exporter": "python",
   "pygments_lexer": "ipython3",
   "version": "3.5.4"
  }
 },
 "nbformat": 4,
 "nbformat_minor": 2
}
